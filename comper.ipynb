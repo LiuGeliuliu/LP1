{
 "cells": [
  {
   "cell_type": "code",
   "execution_count": 4,
   "id": "23583dd8",
   "metadata": {},
   "outputs": [
    {
     "ename": "KeyError",
     "evalue": "'mse'",
     "output_type": "error",
     "traceback": [
      "\u001b[1;31m---------------------------------------------------------------------------\u001b[0m",
      "\u001b[1;31mKeyError\u001b[0m                                  Traceback (most recent call last)",
      "Cell \u001b[1;32mIn[4], line 21\u001b[0m\n\u001b[0;32m     19\u001b[0m     \u001b[38;5;28;01mwith\u001b[39;00m \u001b[38;5;28mopen\u001b[39m(path) \u001b[38;5;28;01mas\u001b[39;00m f:\n\u001b[0;32m     20\u001b[0m         data \u001b[38;5;241m=\u001b[39m json\u001b[38;5;241m.\u001b[39mload(f)\n\u001b[1;32m---> 21\u001b[0m         results[model_name] \u001b[38;5;241m=\u001b[39m data[\u001b[38;5;124m'\u001b[39m\u001b[38;5;124mmse\u001b[39m\u001b[38;5;124m'\u001b[39m]\n\u001b[0;32m     22\u001b[0m \u001b[38;5;28;01melse\u001b[39;00m:\n\u001b[0;32m     23\u001b[0m     \u001b[38;5;28mprint\u001b[39m(\u001b[38;5;124mf\u001b[39m\u001b[38;5;124m\"\u001b[39m\u001b[38;5;124m⚠️ 找不到 \u001b[39m\u001b[38;5;132;01m{\u001b[39;00mpath\u001b[38;5;132;01m}\u001b[39;00m\u001b[38;5;124m\"\u001b[39m)\n",
      "\u001b[1;31mKeyError\u001b[0m: 'mse'"
     ]
    }
   ],
   "source": [
    "# 📊 导入库\n",
    "import json\n",
    "import os\n",
    "import matplotlib.pyplot as plt\n",
    "\n",
    "# 📁 读取所有 metrics/*.json 文件\n",
    "metric_files = {\n",
    "    'Linear Regression': 'metrics/lr_val.json',\n",
    "    'Decision Tree': 'metrics/dt_val.json',\n",
    "    'CatBoost': 'metrics/catboost_val.json',\n",
    "    'XGBoost': 'metrics/xgboost_val.json',\n",
    "    'MLP': 'metrics/mlp_val.json'\n",
    "}\n",
    "\n",
    "results = {}\n",
    "\n",
    "for model_name, path in metric_files.items():\n",
    "    if os.path.exists(path):\n",
    "        with open(path) as f:\n",
    "            data = json.load(f)\n",
    "            results[model_name] = data['mse']\n",
    "    else:\n",
    "        print(f\"⚠️ 找不到 {path}\")\n",
    "\n",
    "# 📈 可视化模型验证集 MSE\n",
    "plt.figure(figsize=(10, 6))\n",
    "sorted_results = dict(sorted(results.items(), key=lambda x: x[1]))\n",
    "plt.barh(list(sorted_results.keys()), list(sorted_results.values()), color='skyblue')\n",
    "plt.xlabel('Validation MSE (Mean Squared Error)')\n",
    "plt.title('模型验证性能比较 (MSE 越低越好)')\n",
    "for i, (model, mse) in enumerate(sorted_results.items()):\n",
    "    plt.text(mse, i, f\"{mse:.2f}\", va='center', ha='left', fontsize=10)\n",
    "plt.grid(axis='x')\n",
    "plt.show()\n"
   ]
  }
 ],
 "metadata": {
  "kernelspec": {
   "display_name": "base",
   "language": "python",
   "name": "python3"
  },
  "language_info": {
   "codemirror_mode": {
    "name": "ipython",
    "version": 3
   },
   "file_extension": ".py",
   "mimetype": "text/x-python",
   "name": "python",
   "nbconvert_exporter": "python",
   "pygments_lexer": "ipython3",
   "version": "3.12.4"
  }
 },
 "nbformat": 4,
 "nbformat_minor": 5
}
